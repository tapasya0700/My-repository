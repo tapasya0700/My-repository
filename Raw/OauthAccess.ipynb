{
 "cells": [
  {
   "cell_type": "code",
   "execution_count": 0,
   "metadata": {
    "application/vnd.databricks.v1+cell": {
     "cellMetadata": {
      "byteLimit": 2048000,
      "rowLimit": 10000
     },
     "inputWidgets": {},
     "nuid": "0b562b5d-2338-4cde-920d-1bf5334609b2",
     "showTitle": false,
     "tableResultSettingsMap": {},
     "title": ""
    }
   },
   "outputs": [],
   "source": [
    "service_credential = dbutils.secrets.get(scope=\"oaonscope\",key=\"clientsecret\")\n",
    "\n",
    "spark.conf.set(\"fs.azure.account.auth.type.finaloaonstorage.dfs.core.windows.net\", \"OAuth\")\n",
    "spark.conf.set(\"fs.azure.account.oauth.provider.type.finaloaonstorage.dfs.core.windows.net\", \"org.apache.hadoop.fs.azurebfs.oauth2.ClientCredsTokenProvider\")\n",
    "spark.conf.set(\"fs.azure.account.oauth2.client.id.finaloaonstorage.dfs.core.windows.net\", dbutils.secrets.get(scope=\"oaonscope\",key=\"appid\"))\n",
    "spark.conf.set(\"fs.azure.account.oauth2.client.secret.finaloaonstorage.dfs.core.windows.net\", service_credential)\n",
    "\n",
    "directoryid=dbutils.secrets.get(scope=\"oaonscope\",key=\"tenantid\")\n",
    "spark.conf.set(\"fs.azure.account.oauth2.client.endpoint.finaloaonstorage.dfs.core.windows.net\", f\"https://login.microsoftonline.com/{directoryid}/oauth2/token\")\n",
    "\n",
    "\n",
    "service_credential = dbutils.secrets.get(scope=\"oaonscope\",key=\"clientsecret\")\n",
    "directoryid=dbutils.secrets.get(scope=\"oaonscope\",key=\"tenantid\")\n",
    "appid=dbutils.secrets.get(scope=\"oaonscope\",key=\"appid\")\n",
    "\n",
    "ADLS_PATH=\"abfss://mycontainmer@finaloaonstorage.dfs.core.windows.net/\""
   ]
  }
 ],
 "metadata": {
  "application/vnd.databricks.v1+notebook": {
   "computePreferences": null,
   "dashboards": [],
   "environmentMetadata": {
    "base_environment": "",
    "environment_version": "2"
   },
   "inputWidgetPreferences": null,
   "language": "python",
   "notebookMetadata": {
    "pythonIndentUnit": 4
   },
   "notebookName": "OauthAccess",
   "widgets": {}
  },
  "language_info": {
   "name": "python"
  }
 },
 "nbformat": 4,
 "nbformat_minor": 0
}
