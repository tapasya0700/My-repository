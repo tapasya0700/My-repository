{
 "cells": [
  {
   "cell_type": "code",
   "execution_count": 0,
   "metadata": {
    "application/vnd.databricks.v1+cell": {
     "cellMetadata": {
      "byteLimit": 2048000,
      "rowLimit": 10000
     },
     "inputWidgets": {},
     "nuid": "201263bb-1dd2-4cc5-bebf-20579558aceb",
     "showTitle": false,
     "tableResultSettingsMap": {},
     "title": ""
    }
   },
   "outputs": [],
   "source": [
    "    %run ./OauthAccess\n",
    "    "
   ]
  },
  {
   "cell_type": "code",
   "execution_count": 0,
   "metadata": {
    "application/vnd.databricks.v1+cell": {
     "cellMetadata": {
      "byteLimit": 2048000,
      "rowLimit": 10000
     },
     "inputWidgets": {},
     "nuid": "adc329e9-26fe-4ab6-aa06-ccb9643800a9",
     "showTitle": false,
     "tableResultSettingsMap": {},
     "title": ""
    }
   },
   "outputs": [],
   "source": [
    "\n",
    "\n",
    "def fileread(manifestPath,entity):\n",
    "\n",
    "    \n",
    "    df2=spark.read.format(\"com.microsoft.cdm\").option(\"storage\",\"finaloaonstorage.dfs.core.windows.net\").option(\"appid\",appid).option(\"appkey\",service_credential).option(\"tenantid\",directoryid).option(\"manifestPath\",f\"mycontainmer/oaondirectirectory/Tables/{manifestPath}/{manifestPath}.manifest.cdm.json\").option(\"entity\",entity).option(\"mode\", \"PERMISSIVE\").load()\n",
    "\n",
    "    return (df2)"
   ]
  },
  {
   "cell_type": "code",
   "execution_count": 0,
   "metadata": {
    "application/vnd.databricks.v1+cell": {
     "cellMetadata": {},
     "inputWidgets": {},
     "nuid": "11d0f0de-e63b-464a-b5d0-365cc8ab0255",
     "showTitle": false,
     "tableResultSettingsMap": {},
     "title": ""
    }
   },
   "outputs": [],
   "source": [
    "def filewrite(df,deltalakepath):\n",
    "    df.write.mode(\"overwrite\").option(\"overwriteSchema\",\"true\").option(\"path\",ADLS_PATH+deltalakepath).save()"
   ]
  }
 ],
 "metadata": {
  "application/vnd.databricks.v1+notebook": {
   "computePreferences": null,
   "dashboards": [],
   "environmentMetadata": {
    "base_environment": "",
    "environment_version": "2"
   },
   "inputWidgetPreferences": null,
   "language": "python",
   "notebookMetadata": {
    "pythonIndentUnit": 4
   },
   "notebookName": "filereadandwrite",
   "widgets": {}
  },
  "language_info": {
   "name": "python"
  }
 },
 "nbformat": 4,
 "nbformat_minor": 0
}
